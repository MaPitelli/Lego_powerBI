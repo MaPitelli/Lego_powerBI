{
 "cells": [
  {
   "cell_type": "code",
   "execution_count": 83,
   "metadata": {},
   "outputs": [],
   "source": [
    "import pandas as pd"
   ]
  },
  {
   "cell_type": "code",
   "execution_count": 84,
   "metadata": {},
   "outputs": [
    {
     "data": {
      "text/html": [
       "<div>\n",
       "<style scoped>\n",
       "    .dataframe tbody tr th:only-of-type {\n",
       "        vertical-align: middle;\n",
       "    }\n",
       "\n",
       "    .dataframe tbody tr th {\n",
       "        vertical-align: top;\n",
       "    }\n",
       "\n",
       "    .dataframe thead th {\n",
       "        text-align: right;\n",
       "    }\n",
       "</style>\n",
       "<table border=\"1\" class=\"dataframe\">\n",
       "  <thead>\n",
       "    <tr style=\"text-align: right;\">\n",
       "      <th></th>\n",
       "      <th>ages</th>\n",
       "      <th>list_price</th>\n",
       "      <th>num_reviews</th>\n",
       "      <th>piece_count</th>\n",
       "      <th>play_star_rating</th>\n",
       "      <th>prod_desc</th>\n",
       "      <th>prod_id</th>\n",
       "      <th>prod_long_desc</th>\n",
       "      <th>review_difficulty</th>\n",
       "      <th>set_name</th>\n",
       "      <th>star_rating</th>\n",
       "      <th>theme_name</th>\n",
       "      <th>val_star_rating</th>\n",
       "      <th>country</th>\n",
       "    </tr>\n",
       "  </thead>\n",
       "  <tbody>\n",
       "    <tr>\n",
       "      <th>0</th>\n",
       "      <td>6-12</td>\n",
       "      <td>29.99</td>\n",
       "      <td>2.0</td>\n",
       "      <td>277.0</td>\n",
       "      <td>4.0</td>\n",
       "      <td>Catapult into action and take back the eggs fr...</td>\n",
       "      <td>75823.0</td>\n",
       "      <td>Use the staircase catapult to launch Red into ...</td>\n",
       "      <td>Average</td>\n",
       "      <td>Bird Island Egg Heist</td>\n",
       "      <td>4.5</td>\n",
       "      <td>Angry Birds™</td>\n",
       "      <td>4.0</td>\n",
       "      <td>US</td>\n",
       "    </tr>\n",
       "    <tr>\n",
       "      <th>1</th>\n",
       "      <td>6-12</td>\n",
       "      <td>19.99</td>\n",
       "      <td>2.0</td>\n",
       "      <td>168.0</td>\n",
       "      <td>4.0</td>\n",
       "      <td>Launch a flying attack and rescue the eggs fro...</td>\n",
       "      <td>75822.0</td>\n",
       "      <td>Pilot Pig has taken off from Bird Island with ...</td>\n",
       "      <td>Easy</td>\n",
       "      <td>Piggy Plane Attack</td>\n",
       "      <td>5.0</td>\n",
       "      <td>Angry Birds™</td>\n",
       "      <td>4.0</td>\n",
       "      <td>US</td>\n",
       "    </tr>\n",
       "  </tbody>\n",
       "</table>\n",
       "</div>"
      ],
      "text/plain": [
       "   ages  list_price  num_reviews  piece_count  play_star_rating  \\\n",
       "0  6-12       29.99          2.0        277.0               4.0   \n",
       "1  6-12       19.99          2.0        168.0               4.0   \n",
       "\n",
       "                                           prod_desc  prod_id  \\\n",
       "0  Catapult into action and take back the eggs fr...  75823.0   \n",
       "1  Launch a flying attack and rescue the eggs fro...  75822.0   \n",
       "\n",
       "                                      prod_long_desc review_difficulty  \\\n",
       "0  Use the staircase catapult to launch Red into ...           Average   \n",
       "1  Pilot Pig has taken off from Bird Island with ...              Easy   \n",
       "\n",
       "                set_name  star_rating    theme_name  val_star_rating country  \n",
       "0  Bird Island Egg Heist          4.5  Angry Birds™              4.0      US  \n",
       "1     Piggy Plane Attack          5.0  Angry Birds™              4.0      US  "
      ]
     },
     "execution_count": 84,
     "metadata": {},
     "output_type": "execute_result"
    }
   ],
   "source": [
    "df = pd.read_csv('lego_sets.csv')\n",
    "df.head(2)"
   ]
  },
  {
   "cell_type": "code",
   "execution_count": 85,
   "metadata": {},
   "outputs": [
    {
     "name": "stdout",
     "output_type": "stream",
     "text": [
      "<class 'pandas.core.frame.DataFrame'>\n",
      "RangeIndex: 12261 entries, 0 to 12260\n",
      "Data columns (total 14 columns):\n",
      " #   Column             Non-Null Count  Dtype  \n",
      "---  ------             --------------  -----  \n",
      " 0   ages               12261 non-null  object \n",
      " 1   list_price         12261 non-null  float64\n",
      " 2   num_reviews        10641 non-null  float64\n",
      " 3   piece_count        12261 non-null  float64\n",
      " 4   play_star_rating   10486 non-null  float64\n",
      " 5   prod_desc          11884 non-null  object \n",
      " 6   prod_id            12261 non-null  float64\n",
      " 7   prod_long_desc     12261 non-null  object \n",
      " 8   review_difficulty  10206 non-null  object \n",
      " 9   set_name           12261 non-null  object \n",
      " 10  star_rating        10641 non-null  float64\n",
      " 11  theme_name         12258 non-null  object \n",
      " 12  val_star_rating    10466 non-null  float64\n",
      " 13  country            12261 non-null  object \n",
      "dtypes: float64(7), object(7)\n",
      "memory usage: 1.3+ MB\n"
     ]
    }
   ],
   "source": [
    "df.info()"
   ]
  },
  {
   "cell_type": "code",
   "execution_count": 86,
   "metadata": {},
   "outputs": [
    {
     "data": {
      "text/html": [
       "<div>\n",
       "<style scoped>\n",
       "    .dataframe tbody tr th:only-of-type {\n",
       "        vertical-align: middle;\n",
       "    }\n",
       "\n",
       "    .dataframe tbody tr th {\n",
       "        vertical-align: top;\n",
       "    }\n",
       "\n",
       "    .dataframe thead th {\n",
       "        text-align: right;\n",
       "    }\n",
       "</style>\n",
       "<table border=\"1\" class=\"dataframe\">\n",
       "  <thead>\n",
       "    <tr style=\"text-align: right;\">\n",
       "      <th></th>\n",
       "      <th>count</th>\n",
       "      <th>mean</th>\n",
       "      <th>std</th>\n",
       "      <th>min</th>\n",
       "      <th>25%</th>\n",
       "      <th>50%</th>\n",
       "      <th>75%</th>\n",
       "      <th>max</th>\n",
       "    </tr>\n",
       "  </thead>\n",
       "  <tbody>\n",
       "    <tr>\n",
       "      <th>list_price</th>\n",
       "      <td>12261.0</td>\n",
       "      <td>65.141998</td>\n",
       "      <td>91.980429</td>\n",
       "      <td>2.2724</td>\n",
       "      <td>19.99</td>\n",
       "      <td>36.5878</td>\n",
       "      <td>70.1922</td>\n",
       "      <td>1104.87</td>\n",
       "    </tr>\n",
       "    <tr>\n",
       "      <th>num_reviews</th>\n",
       "      <td>10641.0</td>\n",
       "      <td>16.826238</td>\n",
       "      <td>36.368984</td>\n",
       "      <td>1.0000</td>\n",
       "      <td>2.00</td>\n",
       "      <td>6.0000</td>\n",
       "      <td>13.0000</td>\n",
       "      <td>367.00</td>\n",
       "    </tr>\n",
       "    <tr>\n",
       "      <th>piece_count</th>\n",
       "      <td>12261.0</td>\n",
       "      <td>493.405921</td>\n",
       "      <td>825.364580</td>\n",
       "      <td>1.0000</td>\n",
       "      <td>97.00</td>\n",
       "      <td>216.0000</td>\n",
       "      <td>544.0000</td>\n",
       "      <td>7541.00</td>\n",
       "    </tr>\n",
       "    <tr>\n",
       "      <th>play_star_rating</th>\n",
       "      <td>10486.0</td>\n",
       "      <td>4.337641</td>\n",
       "      <td>0.652051</td>\n",
       "      <td>1.0000</td>\n",
       "      <td>4.00</td>\n",
       "      <td>4.5000</td>\n",
       "      <td>4.8000</td>\n",
       "      <td>5.00</td>\n",
       "    </tr>\n",
       "    <tr>\n",
       "      <th>prod_id</th>\n",
       "      <td>12261.0</td>\n",
       "      <td>59836.752304</td>\n",
       "      <td>163811.452336</td>\n",
       "      <td>630.0000</td>\n",
       "      <td>21034.00</td>\n",
       "      <td>42069.0000</td>\n",
       "      <td>70922.0000</td>\n",
       "      <td>2000431.00</td>\n",
       "    </tr>\n",
       "    <tr>\n",
       "      <th>star_rating</th>\n",
       "      <td>10641.0</td>\n",
       "      <td>4.514134</td>\n",
       "      <td>0.518865</td>\n",
       "      <td>1.8000</td>\n",
       "      <td>4.30</td>\n",
       "      <td>4.7000</td>\n",
       "      <td>5.0000</td>\n",
       "      <td>5.00</td>\n",
       "    </tr>\n",
       "    <tr>\n",
       "      <th>val_star_rating</th>\n",
       "      <td>10466.0</td>\n",
       "      <td>4.228960</td>\n",
       "      <td>0.660282</td>\n",
       "      <td>1.0000</td>\n",
       "      <td>4.00</td>\n",
       "      <td>4.3000</td>\n",
       "      <td>4.7000</td>\n",
       "      <td>5.00</td>\n",
       "    </tr>\n",
       "  </tbody>\n",
       "</table>\n",
       "</div>"
      ],
      "text/plain": [
       "                    count          mean            std       min       25%  \\\n",
       "list_price        12261.0     65.141998      91.980429    2.2724     19.99   \n",
       "num_reviews       10641.0     16.826238      36.368984    1.0000      2.00   \n",
       "piece_count       12261.0    493.405921     825.364580    1.0000     97.00   \n",
       "play_star_rating  10486.0      4.337641       0.652051    1.0000      4.00   \n",
       "prod_id           12261.0  59836.752304  163811.452336  630.0000  21034.00   \n",
       "star_rating       10641.0      4.514134       0.518865    1.8000      4.30   \n",
       "val_star_rating   10466.0      4.228960       0.660282    1.0000      4.00   \n",
       "\n",
       "                         50%         75%         max  \n",
       "list_price           36.5878     70.1922     1104.87  \n",
       "num_reviews           6.0000     13.0000      367.00  \n",
       "piece_count         216.0000    544.0000     7541.00  \n",
       "play_star_rating      4.5000      4.8000        5.00  \n",
       "prod_id           42069.0000  70922.0000  2000431.00  \n",
       "star_rating           4.7000      5.0000        5.00  \n",
       "val_star_rating       4.3000      4.7000        5.00  "
      ]
     },
     "execution_count": 86,
     "metadata": {},
     "output_type": "execute_result"
    }
   ],
   "source": [
    "df.describe().T"
   ]
  },
  {
   "cell_type": "code",
   "execution_count": 87,
   "metadata": {},
   "outputs": [
    {
     "data": {
      "text/html": [
       "<div>\n",
       "<style scoped>\n",
       "    .dataframe tbody tr th:only-of-type {\n",
       "        vertical-align: middle;\n",
       "    }\n",
       "\n",
       "    .dataframe tbody tr th {\n",
       "        vertical-align: top;\n",
       "    }\n",
       "\n",
       "    .dataframe thead th {\n",
       "        text-align: right;\n",
       "    }\n",
       "</style>\n",
       "<table border=\"1\" class=\"dataframe\">\n",
       "  <thead>\n",
       "    <tr style=\"text-align: right;\">\n",
       "      <th></th>\n",
       "      <th>count</th>\n",
       "      <th>unique</th>\n",
       "      <th>top</th>\n",
       "      <th>freq</th>\n",
       "    </tr>\n",
       "  </thead>\n",
       "  <tbody>\n",
       "    <tr>\n",
       "      <th>ages</th>\n",
       "      <td>12261</td>\n",
       "      <td>31</td>\n",
       "      <td>6-12</td>\n",
       "      <td>1476</td>\n",
       "    </tr>\n",
       "    <tr>\n",
       "      <th>prod_desc</th>\n",
       "      <td>11884</td>\n",
       "      <td>731</td>\n",
       "      <td>Join the ninja aboard Wu’s flying ship!</td>\n",
       "      <td>42</td>\n",
       "    </tr>\n",
       "    <tr>\n",
       "      <th>prod_long_desc</th>\n",
       "      <td>12261</td>\n",
       "      <td>988</td>\n",
       "      <td>Join Mater in his Easy to Build junkyard as he...</td>\n",
       "      <td>42</td>\n",
       "    </tr>\n",
       "    <tr>\n",
       "      <th>review_difficulty</th>\n",
       "      <td>10206</td>\n",
       "      <td>5</td>\n",
       "      <td>Easy</td>\n",
       "      <td>4236</td>\n",
       "    </tr>\n",
       "    <tr>\n",
       "      <th>set_name</th>\n",
       "      <td>12261</td>\n",
       "      <td>741</td>\n",
       "      <td>Chewbacca™</td>\n",
       "      <td>63</td>\n",
       "    </tr>\n",
       "    <tr>\n",
       "      <th>theme_name</th>\n",
       "      <td>12258</td>\n",
       "      <td>40</td>\n",
       "      <td>Star Wars™</td>\n",
       "      <td>1377</td>\n",
       "    </tr>\n",
       "    <tr>\n",
       "      <th>country</th>\n",
       "      <td>12261</td>\n",
       "      <td>21</td>\n",
       "      <td>US</td>\n",
       "      <td>817</td>\n",
       "    </tr>\n",
       "  </tbody>\n",
       "</table>\n",
       "</div>"
      ],
      "text/plain": [
       "                   count unique  \\\n",
       "ages               12261     31   \n",
       "prod_desc          11884    731   \n",
       "prod_long_desc     12261    988   \n",
       "review_difficulty  10206      5   \n",
       "set_name           12261    741   \n",
       "theme_name         12258     40   \n",
       "country            12261     21   \n",
       "\n",
       "                                                                 top  freq  \n",
       "ages                                                            6-12  1476  \n",
       "prod_desc                    Join the ninja aboard Wu’s flying ship!    42  \n",
       "prod_long_desc     Join Mater in his Easy to Build junkyard as he...    42  \n",
       "review_difficulty                                               Easy  4236  \n",
       "set_name                                                  Chewbacca™    63  \n",
       "theme_name                                                Star Wars™  1377  \n",
       "country                                                           US   817  "
      ]
     },
     "execution_count": 87,
     "metadata": {},
     "output_type": "execute_result"
    }
   ],
   "source": [
    "df.describe(include='object').T"
   ]
  },
  {
   "cell_type": "code",
   "execution_count": 88,
   "metadata": {},
   "outputs": [
    {
     "data": {
      "text/plain": [
       "1389"
      ]
     },
     "execution_count": 88,
     "metadata": {},
     "output_type": "execute_result"
    }
   ],
   "source": [
    "df.duplicated().sum()"
   ]
  },
  {
   "cell_type": "code",
   "execution_count": 89,
   "metadata": {},
   "outputs": [
    {
     "data": {
      "text/plain": [
       "11.33"
      ]
     },
     "execution_count": 89,
     "metadata": {},
     "output_type": "execute_result"
    }
   ],
   "source": [
    "round(df.duplicated().sum()/df.shape[0]*100, 2)"
   ]
  },
  {
   "cell_type": "code",
   "execution_count": 90,
   "metadata": {},
   "outputs": [],
   "source": [
    "df.drop_duplicates(inplace=True)"
   ]
  },
  {
   "cell_type": "code",
   "execution_count": 91,
   "metadata": {},
   "outputs": [
    {
     "data": {
      "text/plain": [
       "0"
      ]
     },
     "execution_count": 91,
     "metadata": {},
     "output_type": "execute_result"
    }
   ],
   "source": [
    "df.duplicated().sum()"
   ]
  },
  {
   "cell_type": "code",
   "execution_count": 92,
   "metadata": {},
   "outputs": [
    {
     "data": {
      "text/plain": [
       "(10872, 14)"
      ]
     },
     "execution_count": 92,
     "metadata": {},
     "output_type": "execute_result"
    }
   ],
   "source": [
    "df.shape"
   ]
  },
  {
   "cell_type": "code",
   "execution_count": 93,
   "metadata": {},
   "outputs": [
    {
     "data": {
      "text/plain": [
       "review_difficulty    16.0\n",
       "play_star_rating     14.0\n",
       "val_star_rating      14.0\n",
       "num_reviews          13.0\n",
       "star_rating          13.0\n",
       "prod_desc             3.0\n",
       "ages                  0.0\n",
       "list_price            0.0\n",
       "piece_count           0.0\n",
       "prod_id               0.0\n",
       "prod_long_desc        0.0\n",
       "set_name              0.0\n",
       "theme_name            0.0\n",
       "country               0.0\n",
       "dtype: float64"
      ]
     },
     "execution_count": 93,
     "metadata": {},
     "output_type": "execute_result"
    }
   ],
   "source": [
    "round(df.isna().sum()/df.shape[0]*100).sort_values(ascending=False)"
   ]
  },
  {
   "cell_type": "code",
   "execution_count": 94,
   "metadata": {},
   "outputs": [
    {
     "data": {
      "text/plain": [
       "review_difficulty\n",
       "Easy                3816\n",
       "Average             3380\n",
       "NaN                 1739\n",
       "Challenging          995\n",
       "Very Easy            934\n",
       "Very Challenging       8\n",
       "Name: count, dtype: int64"
      ]
     },
     "execution_count": 94,
     "metadata": {},
     "output_type": "execute_result"
    }
   ],
   "source": [
    "df.review_difficulty.value_counts(dropna=False)"
   ]
  },
  {
   "cell_type": "code",
   "execution_count": 95,
   "metadata": {},
   "outputs": [
    {
     "data": {
      "text/plain": [
       "(0, 14)"
      ]
     },
     "execution_count": 95,
     "metadata": {},
     "output_type": "execute_result"
    }
   ],
   "source": [
    "df[df.isnull().all(axis=1)].shape # no hay ninguna fioa donde todos los valores sean nulos."
   ]
  },
  {
   "cell_type": "code",
   "execution_count": 96,
   "metadata": {},
   "outputs": [
    {
     "data": {
      "text/plain": [
       "(10872, 14)"
      ]
     },
     "execution_count": 96,
     "metadata": {},
     "output_type": "execute_result"
    }
   ],
   "source": [
    "df.shape"
   ]
  },
  {
   "cell_type": "code",
   "execution_count": 97,
   "metadata": {},
   "outputs": [
    {
     "data": {
      "text/plain": [
       "Index([   22,    32,    48,    55,    69,    84,    92,    94,   103,   108,\n",
       "       ...\n",
       "       12080, 12082, 12096, 12108, 12111, 12113, 12136, 12137, 12196, 12214],\n",
       "      dtype='int64', length=1739)"
      ]
     },
     "execution_count": 97,
     "metadata": {},
     "output_type": "execute_result"
    }
   ],
   "source": [
    "index = df[df.review_difficulty.isna()].index\n",
    "index\n"
   ]
  },
  {
   "cell_type": "code",
   "execution_count": 98,
   "metadata": {},
   "outputs": [],
   "source": [
    "df.drop(index=index, inplace=True)"
   ]
  },
  {
   "cell_type": "code",
   "execution_count": 99,
   "metadata": {},
   "outputs": [
    {
     "data": {
      "text/plain": [
       "(9133, 14)"
      ]
     },
     "execution_count": 99,
     "metadata": {},
     "output_type": "execute_result"
    }
   ],
   "source": [
    "df.shape"
   ]
  },
  {
   "cell_type": "code",
   "execution_count": 100,
   "metadata": {},
   "outputs": [
    {
     "data": {
      "text/plain": [
       "prod_desc            3.0\n",
       "ages                 0.0\n",
       "list_price           0.0\n",
       "num_reviews          0.0\n",
       "piece_count          0.0\n",
       "play_star_rating     0.0\n",
       "prod_id              0.0\n",
       "prod_long_desc       0.0\n",
       "review_difficulty    0.0\n",
       "set_name             0.0\n",
       "star_rating          0.0\n",
       "theme_name           0.0\n",
       "val_star_rating      0.0\n",
       "country              0.0\n",
       "dtype: float64"
      ]
     },
     "execution_count": 100,
     "metadata": {},
     "output_type": "execute_result"
    }
   ],
   "source": [
    "round(df.isna().sum()/df.shape[0]*100).sort_values(ascending=False)"
   ]
  },
  {
   "cell_type": "code",
   "execution_count": 118,
   "metadata": {},
   "outputs": [
    {
     "data": {
      "text/plain": [
       "array(['Haul the helicopter to the airfield with the Chopper Transporter, featuring a flatbed truck with orange warning beacons and deep-tread tires, and a helicopter with a tinted cockpit and spinning rotors. This 3-in-1 LEGO® Creator model can be rebuilt into a tractor or an off-roader, or combined with other small-scale LEGO Creator vehicles for endless play scenarios.\\nFeatures a flatbed truck with 2 orange warning beacons and deep-tread tires, plus a helicopter with a tinted cockpit and spinning rotors.\\nTruck comes with a green, dark-green and grey color scheme.\\nHelicopter comes with an orange, white and black color scheme.\\nLoad the helicopter onto the truck and head for the airfield!\\nSpin the rotors and take to the air!\\nThis set offers an age-appropriate building experience for ages 6-12.\\nIncludes more than 120 LEGO® bricks.\\n3-in-1 model: rebuilds into a tractor or an off-roader.\\nChopper Transporter (with chopper loaded) measures over 2” (7cm) high, 6” (16cm) long and 3” (8cm) wide.\\nTractor measures over 1” (5cm) high, 3” (9cm) long and 3” (8cm) wide.\\nOff-Roader measures over 1” (4cm) high, 2” (6cm) long and 1” (4cm) wide.\\nCombine with the 31040, 31041 and 31045 mini-vehicle sets for extended play.',\n",
       "       \"The LEGO® Friends Amusement Park Space Ride comes with articulated arms and hologram stickers to create great speed effects. As you spin the ride faster, the arms lift the rockets higher into the air. There's also a photo booth with movable camera to catch the action, and an ice cream stand to cool down after the ride. Includes an Olivia mini-doll figure.\\nIncludes an Olivia mini-doll figure in a summer outfit.\\nFeatures a spinning Space Ride with 3 rocket seats on 3 articulated arms, which lift higher as the ride turns faster.\\nAlso features a photo booth with moveable camera and display board selling pictures taken during the ride, plus an ice cream stand.\\nAccessory elements include a photo, bill, 2 ice creams and a popsicle.\\nSee how fast you can spin the ride, and how high the articulated arms will lift the rockets.\\nTake pictures of the customers enjoying the funfair and sell them at the booth.\\nOpen the freezer of the ice cream stand and choose a scoop to treat yourself after the ride.\\nThis set offers an age-appropriate building experience for ages 6-12.\\nAmusement Park Space Ride with arms extended measures over 5” (13cm) high, 7” (18cm) wide and 7” (18cm) deep.\\nPhoto booth measures over 3” (10cm) high, 2” (6cm) wide and under 1” (2cm) deep.\\nIce cream stand measures over 1” (3cm) wide, and under 1” (2cm) high and 1” (2cm) deep.\\nCombine with the 41127 Amusement Park Arcade, 41129 Amusement Park Hot Dog Van and 41130 Amusement Park Roller Coaster to create the Heartlake Amusement Park.\",\n",
       "       'Push the LEGO® Friends Amusement Park Roller Coaster around the track, sit a mini-doll in the front carriage to activate the light brick, and activate the cool functions as you go! Turn the Ferris wheel with its swinging gondolas, then push the car to the top of the drop tower and release to watch it go spinning round. This set is full of detailed functions and accessories for a day at the iconic Amusement Park. Includes 4 mini-doll figures.\\nBuild an amusement park featuring a roller coaster with four carriages, drop tower and ferris wheel, plus lots of accessories\\nIncludes 4 mini-doll figures: Emma, Andrea, Matthew and Naya, all in summer outfits\\nRoller coaster track measures 27\" long, coaster train with 4 carriages measures over 1\" high, 6\" long and 1\" wide\\nLEGO Friends building toys are compatible with all LEGO construction sets for creative building\\nThe rotating ferris wheel measures over 12\" high, 11\" wide and 4\" deep. The drop tower measures over 12\" high, 4\" wide and 2\" deep\\n1124 pieces – For boys and girls between the ages of 8 and 12 years old',\n",
       "       'Hand in your ticket, take your aim and play all day at the LEGO® Friends Amusement Park Arcade. First push the lever to shoot the basketball into the hoop. Push the trigger on the water gun to shoot the projectile and knock down the 3 targets. Then take the mallet and try to whack the frog right down. Includes a Mia mini-doll figure.\\nIncludes a Mia mini-doll figure in a summer outfit.\\nFeatures 3 classic funfair arcade games with special functions: a basketball hoop with lever launch, 3 targets that can be knocked over using the water projectile gun with trigger function, and a whackable frog that pops down and back up when hit with a mallet.\\nAccessory elements include an Amusement Park ticket, basketball and a mallet.\\nPush the lever to shoot the basketball into the net.\\nTake aim and push the trigger to launch the water gun projectiles and knock over the targets.\\nUse the mallet to whack the frog down as fast as it appears.\\nThis set offers an age-appropriate building experience for ages 6-12.\\nAmusement Park Arcade measures over 3” (9cm) high, 5” (15cm) wide and 3” (9cm) deep.\\nCombine with the 41128 Amusement Park Space Ride, 41129 Amusement Park Hot Dog Van and 41130 Amusement Park Roller Coaster to create the Heartlake Amusement Park.',\n",
       "       \"This programmable, intelligent brick serves as the heart and brain of LEGO® MINDSTORMS® Education EV3 robots. It features an illuminated six-button interface that changes color to indicate the brick's active state, a high-resolution black and white display, built-in speaker, USB port, a mini SD card reader, four input ports and four output ports. The brick also supports USB, Bluetooth and Wi-Fi communication with a computer and has a programming interface that enables programming and data logging directly onto the brick. It is compatible with mobile devices and is powered by AA batteries or the EV3 Rechargeable DC Battery. The brick features:\\nARM 9 processor with Linux-based operating system\\nFour input ports for data acquisition of up to 1000 samples per/sec\\nFour output ports for execution of commands\\nOn-board program storage including 16 MB of Flash memory and 64 MB of RAM\\nMini SDHC card reader for 32 GB of expanded memory\\nIlluminated, three-color, six-button interface that indicates the brick’s active state\\nHi-resolution 178x128 pixel display enabling detailed graph viewing and sensor data observation\\nHigh-quality speaker\\nOn-brick programming and datalogging that can be uploaded into the EV3 software\\nComputer-to-brick communication through on-board USB, or external Wi-Fi or Bluetooth dongles\\nUSB 2.0 host enabling bricks to be linked in a daisy chain, allows Wi-Fi communication and connection to USB memory sticks\\nPowered by six AA batteries or the 2050 mAh lithium ion EV3 Rechargeable DC Battery\",\n",
       "       'The lithium ion EV3 Rechargeable DC Battery is designed for use with the EV3 Intelligent Brick and features a capacity of 2050 mAh. It provides longer run time than AA batteries and can be charged without taking the model apart. The battery is included in the EV3 Education Core Set and has a charge time of around three to four hours. It requires the 45517 DC Charger, which is the same charger as used for the rechargeable NXT DC Battery. These are sold separately.',\n",
       "       'The digital EV3 Color Sensor distinguishes between eight different colors. It also serves as a light sensor by detecting light intensities. Students can build color sorting and line-following robots, experiment with light reflection of different colors, and gain experience with a technology that is widely used in industries like recycling, agriculture and packaging.\\nMeasures reflected red light and ambient light, from darkness to very bright sunlight\\nCapable of detecting eight colors. It cantell the difference between color or black and white, or between blue, green, yellow, red, white and brown\\nSample rate of 1 kHz\\nAuto-ID is built into the EV3 software',\n",
       "       'This has been designed for use with the EV3 Infrared Seeker Sensor. The beacon emits an infrared signal which the sensor can track. The beacon can also be used as a remote control for the EV3 brick through signals sent to the infrared sensor.\\nRequires two AAA batteries\\nFour individual channels\\nIncludes a beacon button and toggle switch to activate/deactivate\\nGreen LED indicating if the beacon is active\\nAuto power-down if the unit is not in action for one hour\\nWorking distance of up to two meters',\n",
       "       'This standard 10V DC transformer allows you to recharge the 9693 Rechargeable Battery, the 45501 EV3 Rechargeable Battery, the 8878 Power Functions Rechargeable Battery Box, and the 45302 Smarthub Rechargeable Battery.',\n",
       "       'The EV3 Medium Servo Motor is great for lower-load, higher speed applications and when faster response times and a smaller profile are needed in the robot’s design. The motor uses tacho feedback for precise control within one degree of accuracy and has a built-in rotation sensor.\\nTacho feedback to one degree of accuracy\\n240-250 RPM\\nRunning torque of 8 N/cm (approximately 11 oz/in)\\nStall torque of 12 N/cm (approximately 17 oz/in)\\nAuto-ID is built into the EV3 software',\n",
       "       'The digital EV3 Ultrasonic Sensor generates sound waves and reads their echoes to detect and measure distance from objects. It can also send single sound waves to work as sonar or listen for a sound wave that triggers the start of a program. Students could design a traffic-monitoring system and measure distances between vehicles, for instance. There is an opportunity to discover how the technology is used in everyday items like automatic doors, cars and manufacturing systems.\\nMeasures distances between one and 250 cm (one to 100 in.)\\nAccurate to +/- 1 cm (+/- .394 in.)\\nFront illumination is constant while emitting and blinks while listening\\nReturns true if other ultrasonic sound is recognized\\nAuto-ID is built into the EV3 software',\n",
       "       'The LEGO® SERIOUS PLAY® program is a radical and innovative process designed to enhance business performance through building with LEGO bricks.\\nThe LEGO® SERIOUS PLAY® Connections Kit is designed for use in conjunction with the Starter Kit (2000414) and the Identity and Landscape Kit (2000430). It supports a group of 10 - 12 workshop participants. It is designed to support 1 – 2 day workshops, participants focus on the relations and connections structure of the business landscape with its network of interdependent factors and explore how the systems responds to change.\\nIncludes:\\nExtensive selection of connecting elements such as spiral tubes, ladders, fences, bridges and strings\\nExtensive selection of connectors making it possible to build a large interconnected LEGO model\\nBricks for making10 identical bags containing bricks for the “pencil case” exercise. \\n3 orange plastic sorting trays\\n Note: The Connections Kit does not come with any kind of instructor’s manual. Training in how to design and facilitate LEGO SERIOUS PLAY workshops using the Connections Kit can be obtained through the LEGO SERIOUS PLAY Community.',\n",
       "       'The LEGO® SERIOUS PLAY® program is a radical and innovative process designed to enhance business performance through building with LEGO bricks. \\nThe LEGO® SERIOUS PLAY® Window Exploration Bag is for one person to use and is aimed at learning the basic principles and skills of the LEGO® SERIOUS PLAY® method. It is well suited for shorter workshops less than app. 3 hours. Article 2000409 includes 100 individual Window Exploration Bags.\\nIncludes:\\nSmall selection of standard bricks representing multiple colors and shapes\\nSmall selection of special elements and mini figure parts. \\nIf you are a certified LEGO® Serious Play Facilitator and need to purchase quantities greater than the limitations noted on this page, please contact Consumer Services at Customer Service 00-800-5346-5555.\\nNote: The Window Exploration Bag does not come with any kind of instructions or instructor’s manual. Training in how to design and facilitate LEGO SERIOUS PLAY workshops using the Identity and Landscape kit can be obtained through the LEGO SERIOUS PLAY Community.',\n",
       "       'The LEGO® SERIOUS PLAY® program is a radical and innovative process designed to enhance business performance through building with LEGO bricks.\\nThe LEGO® SERIOUS PLAY® Starter Kit is for one person to use. The Starter Kit provides a rich variety of LEGO bricks needed for a workshop that goes beyond a basic introduction to the LEGO SERIOUS PLAY methodology. The kit is applicable for the introductory skills building as well as the deeper imagination and problem-solving aspects of the workshop.\\nIncludes:\\nSelection of standard LEGO bricks combined with a few DUPLO elements. \\nSelection of special elements such as wheels, tires, windows, trees, mini figure parts, tubes, globes and small base plates \\nImaginopedia booklet with simple model building instructions LEGO skills building\\n Note: The Starter Kit does not come with any kind of instructor’s manual. Training in how to design and facilitate LEGO SERIOUS PLAY workshops using the Starter Kit can be obtained through the LEGO SERIOUS PLAY Community.',\n",
       "       'The LEGO® SERIOUS PLAY® program is a radical and innovative process designed to enhance business performance through building with LEGO bricks.\\nThe LEGO® SERIOUS PLAY® Identity and Landscape Kit is designed for use in conjunction with the Starter Kit (2000414) for workshops longer than 3 – 5 hours. It supports a group of 10 - 12 workshop participants.\\nIncludes:\\nLarge special mix of LEGO bricks combined with DUPLO elements including animals.\\nExtensive selection of special elements such as wheels, tires, windows, trees, mini figure parts, sticks, globes, spiral tubes, ladders, and fences.\\nLarge selection of base plates.\\n3 orange plastic sorting trays\\nIf you are a certified LEGO® Serious Play Facilitator and need to purchase quantities greater than the limitations noted on this page, please contact Consumer Services at Customer Service 00-800-5346-5555.\\nNote: The Identity and Landscape kit does not come with any kind of instructions or instructor’s manual. Training in how to design and facilitate LEGO SERIOUS PLAY workshops using the Identity and Landscape kit can be obtained through the LEGO SERIOUS PLAY Community.',\n",
       "       'Push the LEGO® Friends Amusement Park Roller Coaster around the track, sit a mini-doll in the front carriage to activate the light brick, and activate the cool functions as you go! Turn the Ferris wheel with its swinging gondolas, then push the car to the top of the drop tower and release to watch it go spinning round. This set is full of detailed functions and accessories for a day at the iconic Amusement Park. Includes 4 mini-doll figures.\\nIncludes 4 mini-dolls: Emma, Andrea, Matthew and Naya in summer outfits.\\nFeatures a roller coaster, Ferris wheel, drop tower, entrance booth and a dining area.\\nThe push-along roller coaster features 4 carriages (each sitting a mini-doll), functioning light brick, entrance area with opening safety barrier, control panel with levers, camera and a long track with various obstacles along the ride.\\nThe rotating Ferris wheel features steps up to 6 hanging gondolas (each seating a mini-doll).\\nThe drop tower features 2 cars with opening safety bars, exciting spinning function as it drops, and a camera.\\nEntrance booth features a rotating turnstile and a ticket office where you can buy photos from the rides.\\nDining area includes a popcorn cart with turning wheels, 2 tables, 4 stalls and an Amusement Park information stand with a map.\\nAmusement Park accessory elements include 2 tickets, coin, bill, 2 photographs and a map.\\nFood accessory elements include 2 boxes of popcorn, 2 w atermelon slices, apple, hot dog with bun, water bottle and a soda bottle.\\nBeauty accessory elements include 2 pairs of sunglasses and a hair bow.\\nSit a mini-doll in the front carriage to turn on the light brick and watch all the cool features you activate on your roller coaster ride!\\nPush the car to the top of the drop tower and smile for the camera as you spin to the ground.\\nGently turn the Ferris wheel and enjoy the amazing view from the top.\\nGrab a delicious box of popcorn, hot dogor slice of watermelon from the dining area.\\nThis set offers an age-appropriate building experience for ages 8-12.\\nRoller coaster train with 4 carriages measures over 1” (3cm) high, 6” (17cm) long and 1” (3cm) wide.\\nRoller coaster track measures 27” (71cm) long.\\nFerris wheel measures over 12” (31cm) high, 11” (29cm) wide and 4” (12cm) deep.\\nDrop tower measures over 12” (33cm) high, 4” (12cm) wide and 2” (6cm) deep.\\nEntrance booth measures over 2” (7cm) high, 4” (11cm) wide and 1” ( 3cm) deep.\\nPopcorn cart measures over 1” (5cm) high, 1” (5cm) long and under 1” (2cm) wide.\\nCombine with the 41127 Amusement Park Arcade, 41128 Amusement Park Space Ride and 41129 Amusement Park Hot Dog Van to create the Heartlake Amusement Park.',\n",
       "       'Continue a nautical tradition when you build the LEGO® Ideas Ship in a Bottle, featuring a highly detailed ship with the captain’s quarters, cannons, masts, crow’s nest and printed sail elements. Fan creator, Jake Sadovich, was inspired by an actual ship in a bottle that he had built a few years earlier when he decided to build a replica in LEGO brick form. His creation reached the qualifying 10,000 votes with LEGO Ideas.\\nFeatures a LEGO® brick-built bottle, ship and a display stand.\\nBottle features a detailed, buildable cork with new-for-February 2018 wax-seal-style element and over 280 translucent-blue, water-style elements inside.\\nShip features a raised deck at the stern, captain’s quarters, 6 cannons, 3 masts, a crow’s nest and assorted elements including printed sails and the ship’s flag.\\nDisplay stand features the ship’s ‘Leviathan’ nameplate, a built-in ‘compass’ (non-functioning) with detailed compass rose and spinning gold-colored needle, 2 globe elements and gold-colored detailing.\\nIncludes a booklet with building instructions, plus information about the set’s fan creator Jake Sadovich and LEGO® designers.\\nThis construction toy is suitable for ages 10+.\\nBottle on stand measures over 3\" (10cm) high, 12” (31cm) wide and 3” (10cm) deep.\\nShip measures over 3\" (8cm) high, 5” (14cm) long and 1” (5cm) wide.',\n",
       "       'The LEGO® SERIOUS PLAY® program is a radical and innovative process designed to enhance business performance through building with LEGO bricks.\\nThe LEGO® SERIOUS PLAY® Connections Kit is designed for use in conjunction with the Starter Kit (2000414) and the Identity and Landscape Kit (2000430). It supports a group of 10 - 12 workshop participants. It is designed to support 1 – 2 day workshops, participants focus on the relations and connections structure of the business landscape with its network of interdependent factors and explore how the systems responds to change.\\nIncludes:\\nExtensive selection of connecting elements such as spiral tubes, ladders, fences, bridges and strings\\nExtensive selection of connectors making it possible to build a large interconnected LEGO model\\nBricks for making10 identical bags containing bricks for the “pencil case” exercise. \\n3 orange plastic sorting trays\\n If you are a certified LEGO® Serious Play Facilitator and need to purchase quantities greater than the limitations noted on this page, please contact Consumer Services at Customer Service 00-800-5346-5555.\\nNote: The Connections Kit does not come with any kind of instructor’s manual. Training in how to design and facilitate LEGO SERIOUS PLAY workshops using the Connections Kit can be obtained through the LEGO SERIOUS PLAY Community.',\n",
       "       'The LEGO® SERIOUS PLAY® program is a radical and innovative process designed to enhance business performance through building with LEGO bricks.\\nThe LEGO® SERIOUS PLAY® Starter Kit is for one person to use. The Starter Kit provides a rich variety of LEGO bricks needed for a workshop that goes beyond a basic introduction to the LEGO SERIOUS PLAY methodology. The kit is applicable for the introductory skills building as well as the deeper imagination and problem-solving aspects of the workshop.\\nIncludes:\\nSelection of standard LEGO bricks combined with a few DUPLO elements. \\nSelection of special elements such as wheels, tires, windows, trees, mini figure parts, tubes, globes and small base plates \\nImaginopedia booklet with simple model building instructions LEGO skills building\\n If you are a certified LEGO® Serious Play Facilitator and need to purchase quantities greater than the limitations noted on this page, please contact Consumer Services at Customer Service 00-800-5346-5555.\\nNote: The Starter Kit does not come with any kind of instructor’s manual. Training in how to design and facilitate LEGO SERIOUS PLAY workshops using the Starter Kit can be obtained through the LEGO SERIOUS PLAY Community.'],\n",
       "      dtype=object)"
      ]
     },
     "execution_count": 118,
     "metadata": {},
     "output_type": "execute_result"
    }
   ],
   "source": [
    "valores_long = df.prod_long_desc[df.prod_desc.isna()].unique()\n",
    "valores_long"
   ]
  },
  {
   "cell_type": "code",
   "execution_count": 120,
   "metadata": {},
   "outputs": [
    {
     "data": {
      "text/html": [
       "<div>\n",
       "<style scoped>\n",
       "    .dataframe tbody tr th:only-of-type {\n",
       "        vertical-align: middle;\n",
       "    }\n",
       "\n",
       "    .dataframe tbody tr th {\n",
       "        vertical-align: top;\n",
       "    }\n",
       "\n",
       "    .dataframe thead th {\n",
       "        text-align: right;\n",
       "    }\n",
       "</style>\n",
       "<table border=\"1\" class=\"dataframe\">\n",
       "  <thead>\n",
       "    <tr style=\"text-align: right;\">\n",
       "      <th></th>\n",
       "      <th>ages</th>\n",
       "      <th>list_price</th>\n",
       "      <th>num_reviews</th>\n",
       "      <th>piece_count</th>\n",
       "      <th>play_star_rating</th>\n",
       "      <th>prod_desc</th>\n",
       "      <th>prod_id</th>\n",
       "      <th>prod_long_desc</th>\n",
       "      <th>review_difficulty</th>\n",
       "      <th>set_name</th>\n",
       "      <th>star_rating</th>\n",
       "      <th>theme_name</th>\n",
       "      <th>val_star_rating</th>\n",
       "      <th>country</th>\n",
       "    </tr>\n",
       "  </thead>\n",
       "  <tbody>\n",
       "    <tr>\n",
       "      <th>406</th>\n",
       "      <td>12+</td>\n",
       "      <td>69.9900</td>\n",
       "      <td>83.0</td>\n",
       "      <td>962.0</td>\n",
       "      <td>3.7</td>\n",
       "      <td>Designed by fan creator, Jake Sadovich, Idaho,...</td>\n",
       "      <td>21313.0</td>\n",
       "      <td>Continue a nautical tradition when you build t...</td>\n",
       "      <td>Average</td>\n",
       "      <td>Ship in a Bottle</td>\n",
       "      <td>4.5</td>\n",
       "      <td>Ideas</td>\n",
       "      <td>4.2</td>\n",
       "      <td>US</td>\n",
       "    </tr>\n",
       "    <tr>\n",
       "      <th>2934</th>\n",
       "      <td>12+</td>\n",
       "      <td>70.1922</td>\n",
       "      <td>83.0</td>\n",
       "      <td>962.0</td>\n",
       "      <td>3.7</td>\n",
       "      <td>Designed by fan creator, Jake Sadovich, Idaho,...</td>\n",
       "      <td>21313.0</td>\n",
       "      <td>Continue a nautical tradition when you build t...</td>\n",
       "      <td>Average</td>\n",
       "      <td>Ship in a Bottle</td>\n",
       "      <td>4.5</td>\n",
       "      <td>Ideas</td>\n",
       "      <td>4.2</td>\n",
       "      <td>CA</td>\n",
       "    </tr>\n",
       "  </tbody>\n",
       "</table>\n",
       "</div>"
      ],
      "text/plain": [
       "     ages  list_price  num_reviews  piece_count  play_star_rating  \\\n",
       "406   12+     69.9900         83.0        962.0               3.7   \n",
       "2934  12+     70.1922         83.0        962.0               3.7   \n",
       "\n",
       "                                              prod_desc  prod_id  \\\n",
       "406   Designed by fan creator, Jake Sadovich, Idaho,...  21313.0   \n",
       "2934  Designed by fan creator, Jake Sadovich, Idaho,...  21313.0   \n",
       "\n",
       "                                         prod_long_desc review_difficulty  \\\n",
       "406   Continue a nautical tradition when you build t...           Average   \n",
       "2934  Continue a nautical tradition when you build t...           Average   \n",
       "\n",
       "              set_name  star_rating theme_name  val_star_rating country  \n",
       "406   Ship in a Bottle          4.5      Ideas              4.2      US  \n",
       "2934  Ship in a Bottle          4.5      Ideas              4.2      CA  "
      ]
     },
     "execution_count": 120,
     "metadata": {},
     "output_type": "execute_result"
    }
   ],
   "source": [
    "df[(df.prod_desc.notna()) & (df.prod_long_desc.isin(valores_long))]"
   ]
  },
  {
   "cell_type": "code",
   "execution_count": 121,
   "metadata": {},
   "outputs": [
    {
     "data": {
      "text/plain": [
       "(9133, 14)"
      ]
     },
     "execution_count": 121,
     "metadata": {},
     "output_type": "execute_result"
    }
   ],
   "source": [
    "df.shape"
   ]
  },
  {
   "cell_type": "code",
   "execution_count": 122,
   "metadata": {},
   "outputs": [],
   "source": [
    "index = df[df.prod_desc.isna()].index\n",
    "df.drop(index=index, inplace=True)"
   ]
  },
  {
   "cell_type": "code",
   "execution_count": 123,
   "metadata": {},
   "outputs": [
    {
     "data": {
      "text/plain": [
       "(8861, 14)"
      ]
     },
     "execution_count": 123,
     "metadata": {},
     "output_type": "execute_result"
    }
   ],
   "source": [
    "df.shape"
   ]
  },
  {
   "cell_type": "code",
   "execution_count": 124,
   "metadata": {},
   "outputs": [
    {
     "data": {
      "text/plain": [
       "ages                 0.0\n",
       "list_price           0.0\n",
       "num_reviews          0.0\n",
       "piece_count          0.0\n",
       "play_star_rating     0.0\n",
       "prod_desc            0.0\n",
       "prod_id              0.0\n",
       "prod_long_desc       0.0\n",
       "review_difficulty    0.0\n",
       "set_name             0.0\n",
       "star_rating          0.0\n",
       "theme_name           0.0\n",
       "val_star_rating      0.0\n",
       "country              0.0\n",
       "dtype: float64"
      ]
     },
     "execution_count": 124,
     "metadata": {},
     "output_type": "execute_result"
    }
   ],
   "source": [
    "round(df.isna().sum()/df.shape[0]*100).sort_values(ascending=False)"
   ]
  },
  {
   "cell_type": "code",
   "execution_count": 134,
   "metadata": {},
   "outputs": [],
   "source": [
    "df.dropna(inplace=True)"
   ]
  },
  {
   "cell_type": "code",
   "execution_count": 135,
   "metadata": {},
   "outputs": [
    {
     "name": "stdout",
     "output_type": "stream",
     "text": [
      "<class 'pandas.core.frame.DataFrame'>\n",
      "Index: 8837 entries, 0 to 12239\n",
      "Data columns (total 14 columns):\n",
      " #   Column             Non-Null Count  Dtype  \n",
      "---  ------             --------------  -----  \n",
      " 0   ages               8837 non-null   object \n",
      " 1   list_price         8837 non-null   float64\n",
      " 2   num_reviews        8837 non-null   float64\n",
      " 3   piece_count        8837 non-null   float64\n",
      " 4   play_star_rating   8837 non-null   float64\n",
      " 5   prod_desc          8837 non-null   object \n",
      " 6   prod_id            8837 non-null   float64\n",
      " 7   prod_long_desc     8837 non-null   object \n",
      " 8   review_difficulty  8837 non-null   object \n",
      " 9   set_name           8837 non-null   object \n",
      " 10  star_rating        8837 non-null   float64\n",
      " 11  theme_name         8837 non-null   object \n",
      " 12  val_star_rating    8837 non-null   float64\n",
      " 13  country            8837 non-null   object \n",
      "dtypes: float64(7), object(7)\n",
      "memory usage: 1.0+ MB\n"
     ]
    }
   ],
   "source": [
    "df.info()"
   ]
  },
  {
   "cell_type": "code",
   "execution_count": 136,
   "metadata": {},
   "outputs": [],
   "source": [
    "df.to_csv('datos_lego_limpios.csv', index=False)"
   ]
  },
  {
   "cell_type": "code",
   "execution_count": 137,
   "metadata": {},
   "outputs": [
    {
     "data": {
      "text/html": [
       "<div>\n",
       "<style scoped>\n",
       "    .dataframe tbody tr th:only-of-type {\n",
       "        vertical-align: middle;\n",
       "    }\n",
       "\n",
       "    .dataframe tbody tr th {\n",
       "        vertical-align: top;\n",
       "    }\n",
       "\n",
       "    .dataframe thead th {\n",
       "        text-align: right;\n",
       "    }\n",
       "</style>\n",
       "<table border=\"1\" class=\"dataframe\">\n",
       "  <thead>\n",
       "    <tr style=\"text-align: right;\">\n",
       "      <th></th>\n",
       "      <th>ages</th>\n",
       "      <th>list_price</th>\n",
       "      <th>num_reviews</th>\n",
       "      <th>piece_count</th>\n",
       "      <th>play_star_rating</th>\n",
       "      <th>prod_desc</th>\n",
       "      <th>prod_id</th>\n",
       "      <th>prod_long_desc</th>\n",
       "      <th>review_difficulty</th>\n",
       "      <th>set_name</th>\n",
       "      <th>star_rating</th>\n",
       "      <th>theme_name</th>\n",
       "      <th>val_star_rating</th>\n",
       "      <th>country</th>\n",
       "    </tr>\n",
       "  </thead>\n",
       "  <tbody>\n",
       "    <tr>\n",
       "      <th>0</th>\n",
       "      <td>6-12</td>\n",
       "      <td>29.99</td>\n",
       "      <td>2.0</td>\n",
       "      <td>277.0</td>\n",
       "      <td>4.0</td>\n",
       "      <td>Catapult into action and take back the eggs fr...</td>\n",
       "      <td>75823.0</td>\n",
       "      <td>Use the staircase catapult to launch Red into ...</td>\n",
       "      <td>Average</td>\n",
       "      <td>Bird Island Egg Heist</td>\n",
       "      <td>4.5</td>\n",
       "      <td>Angry Birds™</td>\n",
       "      <td>4.0</td>\n",
       "      <td>US</td>\n",
       "    </tr>\n",
       "    <tr>\n",
       "      <th>1</th>\n",
       "      <td>6-12</td>\n",
       "      <td>19.99</td>\n",
       "      <td>2.0</td>\n",
       "      <td>168.0</td>\n",
       "      <td>4.0</td>\n",
       "      <td>Launch a flying attack and rescue the eggs fro...</td>\n",
       "      <td>75822.0</td>\n",
       "      <td>Pilot Pig has taken off from Bird Island with ...</td>\n",
       "      <td>Easy</td>\n",
       "      <td>Piggy Plane Attack</td>\n",
       "      <td>5.0</td>\n",
       "      <td>Angry Birds™</td>\n",
       "      <td>4.0</td>\n",
       "      <td>US</td>\n",
       "    </tr>\n",
       "    <tr>\n",
       "      <th>2</th>\n",
       "      <td>6-12</td>\n",
       "      <td>12.99</td>\n",
       "      <td>11.0</td>\n",
       "      <td>74.0</td>\n",
       "      <td>4.3</td>\n",
       "      <td>Chase the piggy with lightning-fast Chuck and ...</td>\n",
       "      <td>75821.0</td>\n",
       "      <td>Pitch speedy bird Chuck against the Piggy Car....</td>\n",
       "      <td>Easy</td>\n",
       "      <td>Piggy Car Escape</td>\n",
       "      <td>4.3</td>\n",
       "      <td>Angry Birds™</td>\n",
       "      <td>4.1</td>\n",
       "      <td>US</td>\n",
       "    </tr>\n",
       "    <tr>\n",
       "      <th>3</th>\n",
       "      <td>12+</td>\n",
       "      <td>99.99</td>\n",
       "      <td>23.0</td>\n",
       "      <td>1032.0</td>\n",
       "      <td>3.6</td>\n",
       "      <td>Explore the architecture of the United States ...</td>\n",
       "      <td>21030.0</td>\n",
       "      <td>Discover the architectural secrets of the icon...</td>\n",
       "      <td>Average</td>\n",
       "      <td>United States Capitol Building</td>\n",
       "      <td>4.6</td>\n",
       "      <td>Architecture</td>\n",
       "      <td>4.3</td>\n",
       "      <td>US</td>\n",
       "    </tr>\n",
       "    <tr>\n",
       "      <th>4</th>\n",
       "      <td>12+</td>\n",
       "      <td>79.99</td>\n",
       "      <td>14.0</td>\n",
       "      <td>744.0</td>\n",
       "      <td>3.2</td>\n",
       "      <td>Recreate the Solomon R. Guggenheim Museum® wit...</td>\n",
       "      <td>21035.0</td>\n",
       "      <td>Discover the architectural secrets of Frank Ll...</td>\n",
       "      <td>Challenging</td>\n",
       "      <td>Solomon R. Guggenheim Museum®</td>\n",
       "      <td>4.6</td>\n",
       "      <td>Architecture</td>\n",
       "      <td>4.1</td>\n",
       "      <td>US</td>\n",
       "    </tr>\n",
       "  </tbody>\n",
       "</table>\n",
       "</div>"
      ],
      "text/plain": [
       "   ages  list_price  num_reviews  piece_count  play_star_rating  \\\n",
       "0  6-12       29.99          2.0        277.0               4.0   \n",
       "1  6-12       19.99          2.0        168.0               4.0   \n",
       "2  6-12       12.99         11.0         74.0               4.3   \n",
       "3   12+       99.99         23.0       1032.0               3.6   \n",
       "4   12+       79.99         14.0        744.0               3.2   \n",
       "\n",
       "                                           prod_desc  prod_id  \\\n",
       "0  Catapult into action and take back the eggs fr...  75823.0   \n",
       "1  Launch a flying attack and rescue the eggs fro...  75822.0   \n",
       "2  Chase the piggy with lightning-fast Chuck and ...  75821.0   \n",
       "3  Explore the architecture of the United States ...  21030.0   \n",
       "4  Recreate the Solomon R. Guggenheim Museum® wit...  21035.0   \n",
       "\n",
       "                                      prod_long_desc review_difficulty  \\\n",
       "0  Use the staircase catapult to launch Red into ...           Average   \n",
       "1  Pilot Pig has taken off from Bird Island with ...              Easy   \n",
       "2  Pitch speedy bird Chuck against the Piggy Car....              Easy   \n",
       "3  Discover the architectural secrets of the icon...           Average   \n",
       "4  Discover the architectural secrets of Frank Ll...       Challenging   \n",
       "\n",
       "                         set_name  star_rating    theme_name  val_star_rating  \\\n",
       "0           Bird Island Egg Heist          4.5  Angry Birds™              4.0   \n",
       "1              Piggy Plane Attack          5.0  Angry Birds™              4.0   \n",
       "2                Piggy Car Escape          4.3  Angry Birds™              4.1   \n",
       "3  United States Capitol Building          4.6  Architecture              4.3   \n",
       "4   Solomon R. Guggenheim Museum®          4.6  Architecture              4.1   \n",
       "\n",
       "  country  \n",
       "0      US  \n",
       "1      US  \n",
       "2      US  \n",
       "3      US  \n",
       "4      US  "
      ]
     },
     "execution_count": 137,
     "metadata": {},
     "output_type": "execute_result"
    }
   ],
   "source": [
    "df_limpio = pd.read_csv('datos_lego_limpios.csv')\n",
    "df_limpio.head()"
   ]
  },
  {
   "cell_type": "code",
   "execution_count": 138,
   "metadata": {},
   "outputs": [
    {
     "data": {
      "text/plain": [
       "ages\n",
       "6-12     1368\n",
       "7-14     1119\n",
       "8-14      946\n",
       "5-12      749\n",
       "7-12      617\n",
       "9-14      477\n",
       "10+       450\n",
       "16+       399\n",
       "2-5       396\n",
       "4-7       313\n",
       "8-12      306\n",
       "12+       279\n",
       "4-99      273\n",
       "8+        184\n",
       "14+       178\n",
       "10-16     147\n",
       "6-14      108\n",
       "9-16       92\n",
       "1½-5       67\n",
       "11-16      66\n",
       "6+         62\n",
       "5+         46\n",
       "1½-3       46\n",
       "12-16      42\n",
       "5-8        21\n",
       "9+         21\n",
       "10-14      21\n",
       "9-12       21\n",
       "4+         21\n",
       "7+          2\n",
       "Name: count, dtype: int64"
      ]
     },
     "metadata": {},
     "output_type": "display_data"
    },
    {
     "data": {
      "text/plain": [
       "prod_desc\n",
       "Get ready to bust some ghosts at the Firehouse Headquarters!      21\n",
       "Climb up to the tree house and help Mia settle in!                21\n",
       "Build, play and learn from inspiring women of NASA!               21\n",
       "What time is it? It’s LEGO® Adventure Time™!                      21\n",
       "Build the first rocket to land people on the Moon!                21\n",
       "                                                                  ..\n",
       "Drive the van to send special gifts all around Heartlake City!     2\n",
       "Count down to Christmas with LEGO® Friends!                        2\n",
       "Speed into action on Rey's Speeder!™                               1\n",
       "Go on daring missions with Poe's X-Wing Fighter™!                  1\n",
       "Speed into action on Rey's Speeder™!                               1\n",
       "Name: count, Length: 626, dtype: int64"
      ]
     },
     "metadata": {},
     "output_type": "display_data"
    },
    {
     "data": {
      "text/plain": [
       "prod_long_desc\n",
       "Join ninja Jay in battle against the shark army and protect Takuma’s boat from Flying Jelly Sub attacks, in this action-packed THE LEGO® NINJAGO® MOVIE™ set. The sub features an opening minifigure cockpit, rotating legs, 2 flick missiles and swinging ‘toxic’ tentacles. Also includes a boat, plus 4 minifigures with assorted weapons to add to the battle role-play options.\\nIncludes 4 minifigures: Jay, Takuma, Jelly and Hammer Head.\\nFlying Jelly Sub features an opening minifigure cockpit with bubble windshield and detailed dashboard, rotating legs, 2 flick missiles, 2 spinning rotors, 2 canisters, swinging translucent-orange ‘toxic' tentacles and translucent-red eye elements.\\nThe boat features a flag, paddle and 3 buckets.\\nWeapons include Jay's spiked flail, Jelly's fish spear and Hammer Head's fish blade.\\nRecreate and role-play exciting THE LEGO® NINJAGO® MOVIE™ scenes.\\nFlying Jelly Sub measures over 8” (21cm) high, 5” (14cm) long and 5” (14cm) wide.\\nBoat measures over 3” (8cm) high, 6” (16cm) long and 1” (4cm) wide.                                                                                                                                                                                                                                                                                                                                                                                                                                                     21\n",
       "Enjoy a rewarding build-and-play experience with this authentic LEGO® Technic replica of a real-life hook loader, featuring a driver’s cab, heavy-duty tires, large warning light, working steering and hook loading functionality. Turn the crank to lift and lower the cargo container to and from the truck chassis. This 2-in-1 advanced building set can be rebuilt to create an Airport Fire Truck.\\nFeatures working steering and hook loading functionality, driver’s cab, warning light, heavy-duty tires and a cargo container.\\nCheck out the red, gray and black color scheme.\\nActivate the hook loading function to lift and lower the container.\\nThis LEGO® Technic advanced building set is designed to provide an immersive and rewarding building experience.\\nDesigned for indoor use only.\\n2-in-1 model: rebuilds into an Airport Fire Truck.\\nSuitable for ages 7-14.\\nHook Loader measures over 3” (8cm) high, 5” (14cm) long and 2” (7cm) wide.\\nAirport Fire Truck measures over 3” (8cm) high, 6” (16cm) long and 2” (7cm) wide.                                                                                                                                                                                                                                                                                                                                                                                                                                                                      21\n",
       "Enjoy a rewarding build and play experience with this awesome replica of a fire department SUV, featuring a red and black color scheme with sticker detailing, wide black rims with chunky tires, blue warning beacons, and roof-mounted spot lamps. This highly detailed 2-in-1 LEGO® Technic advanced building set also features a range of functions, including working steering and suspension, working winch and a raisable light tower, plus a driver's cab with opening doors and a storage compartment with a selection of tool accessories.\\nFeatures working steering and suspension, working winch, raisable light tower, driver’s cab with opening doors, storage compartment with a selection of tools, wide black rims with chunky tires, blue warning beacons and roof-mounted spot lamps.\\nCheck out the authentic red and black color scheme.\\nAlso includes a set of stickers for additional detailing.\\nOperate the working winch to tow vehicles out of danger.\\nOpen the storage compartment to access a selection of tools.\\nThis LEGO® Technic advanced building set is designed to provide an immersive and rewarding building experience.\\n2-in-1 model: rebuilds into a Fire Racer.\\nSuitable for ages 9-16.\\nFirst Responder (with light tower extended) measures over 7” (20cm) high, 10” (27cm) long and 4” (12cm) wide, and over 4” (12cm) high with tower retracted.\\nFire Racer measures over 3” (9cm) high, 11” (28cm) long and 4” (12cm) wide.                                                 21\n",
       "Enter the world of water sports with this amazing LEGO® Technic Racing Yacht, featuring a sporty yellow and blue color scheme with maritime racing stickers, colorfully printed sails with lines and winches, and a detailed hull. Turn the ship’s wheel or move the tiller to operate the rudder and wind the winches to move the sails. This sturdy 2-in-1 advanced building set can be rebuilt to create a highly detailed Catamaran.\\nAuthentic replica of a real-life racing yacht, featuring colorfully printed sails with lines and winches, detailed hull and a working rudder with wheel and tiller steering.\\nCheck out the sporty yellow and blue color scheme with maritime racing stickers.\\nTurn the winches to trim the sail and harness the power of the wind.\\nTurn the ship's wheel or man the tiller to operate the rudder.\\nThis LEGO® Technic advanced building set is designed to provide an immersive and rewarding building experience.\\nDoes not float.\\n2-in-1 model: rebuilds into a Catamaran.\\nSuitable for ages 8-14.\\nRacing Yacht measures over 11” (29cm) high, 14” (36cm) long and 3” (8cm) wide.\\nCatamaran measures over 10” (27cm) high, 12” (31cm) long and 4” (11cm) wide.                                                                                                                                                                                                                                                                                                                21\n",
       "Perform amazing stunts with this high-speed LEGO® Technic Stunt Truck model, featuring a blue, black and white color scheme with checkered racing stickers, sturdy front bumper and wide blue rims with low profile tires. This Stunt Truck is also equipped with a pull-back motor, and comes with a buildable stunt ramp. Combine with the 42058 Stunt Bike pull-back model for extended play possibilities or to create the Power Racer combi model.\\nFeatures a powerful pull-back motor, sturdy front bumper and wide blue rims with low profile tires.\\nIncludes a buildable stunt ramp.\\nCheck out the fresh blue, black and white color scheme with checkered racing stickers.\\nBring on the 42058 Stunt Bike and let the stunt competition begin.\\nActivate the pull-back motor to send the high-speed Stunt Truck hurtling toward the stunt ramp.\\nA uniquely decorated LEGO® Technic 40th Anniversary brick is included with this model.\\nThis LEGO® Technic model is designed to provide an immersive and rewarding building experience.\\nThis set offers an age-appropriate building experience for ages 7-14.\\nStunt Truck measures over 3” (8cm) high, 7” (18cm) long and 3” (9cm) wide.\\nRamp measures over 4” (12cm) wide, 3” (9cm) deep and under 1” (2cm) high.\\nCombine with the 42058 Stunt Bike to create an awesome Power Racer combi model.\\nCombi model Power Racer measures over 4” (11cm) high, 7” (19cm) long and 3” (9cm) wide.                                                                     21\n",
       "                                                                                                                                                                                                                                                                                                                                                                                                                                                                                                                                                                                                                                                                                                                                                                                                                                                                                                                                                                                                                                                                                                                                                                                                                                                                                                                                                                                                                                                                                                                                 ..\n",
       "Join exciting adventures in Elvendale as Rosalyn Nightshade the healer elf aids the elves in their quest and guards the forest with Sapphire the dragon, featuring translucent wings, space for 2 mini-doll figures and the baby dragon on her back, plus an unfolding tree that reveals a hidden 2-level treehouse with an alchemy room and medical workstation. Includes 2 mini-doll figures, plus a goblin and 3 animal figures.\\nBuild a magical a treehouse hideaway, featuring a dragon with translucent wings and unfolding tree\\nIncludes 2 mini-doll figures: Rosalyn Nightshade and Naida Riverheart, plus Rimlin the Goblin, Sapphire the dragon, Lula the baby dragon and Lil’ Blu the baby bear figures\\nLEGO Elves building toys are compatible with all LEGO construction sets for creative building\\nDragon with wings extended measures over 1” high, 7” long and 9” wide. Healing hideout measures over 6” high, 3” wide and 6” deep\\n460 pieces – For boys and girls between the ages of 8 and 12                                                                                                                                                                                                                                                                                                                                                                                                                                                                                                              1\n",
       "Join the exciting new adventures in Elvendale with Cronan Darkroot the Goblin King as he goes in search of crystals to power his evil portal. Fly on the back of Ashwing, with a cage for crystals, and posable wings with gripping claws, plus a crystal cave with hiding place for Lil’ Blu and an explosion function to reveal a crystal. Includes a mini-doll figure plus a goblin, momma bear and bear cub.\\nBuild your own Crystal Cave, complete with explosion function and hiding place for Lil’ Blue!\\nIncludes Goblin King mini-doll, plus Ashwing the earth dragon, Jimblin the Goblin, Bluebeary and Lil’ Blu\\nLEGO Elves brick building toys are compatible with all other LEGO construction sets for creative building\\nAshwing measures over 4” high and 12” long, with a wingspan of 14”. Crystal Cave measures over 2” high, 3” wide and 1” deep.\\n339 pieces – For girls and boys between the ages of 8 and 12 years old                                                                                                                                                                                                                                                                                                                                                                                                                                                                                                                                                                                       1\n",
       "Take part in exciting new Elvendale adventures in the Goblin Village, featuring three buildings loaded with accessories, including a crystal workshop with magnifying glass and rotating crystal platform, cage-making workshop with lookout perch and dungeon with exploding gate function, activated by pulling down on the plant. Includes two mini-doll figures plus three goblins, a panther and a chameleon figure.\\nBuild your own Goblin Village featuring a crystal workshop, a cage-making workshop and a dungeon!\\nIncludes Azari and Farran mini-dolls, plus three goblin figures: Bieblin, Fibblin and Smilin, and Panthara the Panther and Hidee the Chameleon figures\\nLEGO Elves brick building toys are compatible with all other LEGO construction sets for creative building\\nGoblin Village, with three main buildings in a row, measures over 5” high, 15” wide and 1” deep\\n637 pieces – For girls and boys between the ages of 7 and 12 years old                                                                                                                                                                                                                                                                                                                                                                                                                                                                                                                                                          1\n",
       "Team up with Batman™ to take on Clayface™ and free Mayor McCaskill from the clay prison in THE LEGO® BATMAN MOVIE: Clayface Splat Attack set. The highly posable, buildable Clayface figure features three interchangeable hands—two with a six-stud rapid shooter each and one with a clay hammer—while Batman is armed with a Batarang to dial up the role-play conflict. Includes two minifigures and a brick-built figure.\\nBuild your own clash between the Caped Crusader and the monstrous Clayface!\\nFeatured in THE LEGO BATMAN MOVIE\\nIncludes Batman and Mayor McCaskill minifigures, plus brick-built Clayface figure with posable arms, legs and head\\nThe LEGO Batman Movie toys are compatible with all LEGO construction sets for creative building\\nClayface stands over 5” tall. Clay prison measures over 1” tall, 1” deep and under 1” high\\n448 pieces – For boys and girls between the ages of 8 and 14 years old                                                                                                                                                                                                                                                                                                                                                                                                                                                                                                                                                                                           1\n",
       "Track down fugitives with legendary bounty hunter, Boba Fett aboard the powerful Slave I! This exclusive LEGO® Star Wars model features a rotating cockpit and wings for flight and landing mode, plus dual shooters and hidden blasters to repel attackers. Reenact the capture of Han Solo in Star Wars: Episode V The Empire Strikes Back and take off from Bespin with the carbonite-imprisoned Rebel hero in the cargo hold. Attach the stand to display this iconic ship in characteristic upright flight. Includes 4 minifigures with weapons: Boba Fett, Bespin Guard, Stormtrooper and Han Solo.\\nIncludes 4 minifigures with weapons: Boba Fett, Bespin Guard, Stormtrooper and Han Solo\\nAlso includes Han Solo in carbonite!\\nFeatures a rotating cockpit and wings, opening side hatches with hidden guns and missiles, 2 rotating dual shooters, cargo hold and a display stand with data sheet\\nWeapons include special blaster pistol for Boba Fett, blaster pistol for Bespin Guard and a blaster rifle for the Stormtrooper\\nBoba Fett and Bespin Guard minifigures are unique to this set\\nRotate the cockpit and wings for flight and landing mode\\nPlace carbonite-imprisoned Han Solo in the cargo hold\\nOpen the side hatches to unleash missiles from the hidden guns\\nShowcase the huge Slave I in upright flight on the display stand\\nRecreate classic scenes from Star Wars: Episode V The Empire Strikes Back\\nMeasures over 7” (20cm) high, 17” (45cm) long and 14” (37cm) wide in landing mode     1\n",
       "Name: count, Length: 848, dtype: int64"
      ]
     },
     "metadata": {},
     "output_type": "display_data"
    },
    {
     "data": {
      "text/plain": [
       "review_difficulty\n",
       "Easy                3709\n",
       "Average             3273\n",
       "Challenging          973\n",
       "Very Easy            874\n",
       "Very Challenging       8\n",
       "Name: count, dtype: int64"
      ]
     },
     "metadata": {},
     "output_type": "display_data"
    },
    {
     "data": {
      "text/plain": [
       "set_name\n",
       "Rey                              42\n",
       "Chewbacca™                       42\n",
       "Kylo Ren™                        42\n",
       "Y-Wing Starfighter™              29\n",
       "Stunt Truck                      23\n",
       "                                 ..\n",
       "Mia's Beach Scooter               2\n",
       "Piggy Plane Attack                2\n",
       "LEGO® Friends Advent Calendar     2\n",
       "Moana's Ocean Voyage              1\n",
       "My First Vehicles                 1\n",
       "Name: count, Length: 619, dtype: int64"
      ]
     },
     "metadata": {},
     "output_type": "display_data"
    },
    {
     "data": {
      "text/plain": [
       "theme_name\n",
       "Star Wars™                               1322\n",
       "City                                      984\n",
       "DUPLO®                                    509\n",
       "Technic                                   484\n",
       "Friends                                   472\n",
       "THE LEGO® NINJAGO® MOVIE™                 399\n",
       "BrickHeadz                                387\n",
       "THE LEGO® BATMAN MOVIE                    387\n",
       "Creator 3-in-1                            380\n",
       "Marvel Super Heroes                       372\n",
       "Juniors                                   334\n",
       "Creator Expert                            317\n",
       "Classic                                   294\n",
       "Minecraft™                                261\n",
       "Disney™                                   260\n",
       "Speed Champions                           254\n",
       "DIMENSIONS™                               220\n",
       "Architecture                              210\n",
       "NINJAGO®                                  179\n",
       "Elves                                     153\n",
       "DC Comics™ Super Heroes                   148\n",
       "NEXO KNIGHTS™                             116\n",
       "Ideas                                     109\n",
       "Minifigures                                46\n",
       "MINDSTORMS®                                25\n",
       "Ghostbusters™                              23\n",
       "Pteranodon Chase                           21\n",
       "Stygimoloch Breakout                       21\n",
       "Dilophosaurus Outpost Attack               21\n",
       "Jurassic Park Velociraptor Chase           21\n",
       "Indoraptor Rampage at Lockwood Estate      21\n",
       "Power Functions                            21\n",
       "BOOST                                      19\n",
       "Carnotaurus Gyrosphere Escape              15\n",
       "LEGO® Creator 3-in-1                       14\n",
       "DC Super Hero Girls                        12\n",
       "Angry Birds™                                6\n",
       "Name: count, dtype: int64"
      ]
     },
     "metadata": {},
     "output_type": "display_data"
    },
    {
     "data": {
      "text/plain": [
       "country\n",
       "US    599\n",
       "CA    598\n",
       "NL    415\n",
       "AT    414\n",
       "GB    413\n",
       "CH    412\n",
       "DN    412\n",
       "AU    412\n",
       "IE    411\n",
       "BE    408\n",
       "FR    406\n",
       "NZ    405\n",
       "IT    395\n",
       "LU    394\n",
       "NO    394\n",
       "FI    394\n",
       "ES    394\n",
       "DE    394\n",
       "CZ    394\n",
       "PT    393\n",
       "PL    380\n",
       "Name: count, dtype: int64"
      ]
     },
     "metadata": {},
     "output_type": "display_data"
    }
   ],
   "source": [
    "cat_cols = df.describe(include='object').columns\n",
    "\n",
    "for col in cat_cols:\n",
    "    display(df[col].value_counts())"
   ]
  },
  {
   "cell_type": "code",
   "execution_count": 139,
   "metadata": {},
   "outputs": [
    {
     "data": {
      "text/plain": [
       "array(['US', 'AU', 'AT', 'BE', 'CA', 'CH', 'CZ', 'DE', 'DN', 'ES', 'FI',\n",
       "       'FR', 'GB', 'IE', 'IT', 'LU', 'NO', 'NL', 'NZ', 'PL', 'PT'],\n",
       "      dtype=object)"
      ]
     },
     "execution_count": 139,
     "metadata": {},
     "output_type": "execute_result"
    }
   ],
   "source": [
    "df.country.unique()"
   ]
  },
  {
   "cell_type": "code",
   "execution_count": 140,
   "metadata": {},
   "outputs": [
    {
     "data": {
      "text/html": [
       "<div>\n",
       "<style scoped>\n",
       "    .dataframe tbody tr th:only-of-type {\n",
       "        vertical-align: middle;\n",
       "    }\n",
       "\n",
       "    .dataframe tbody tr th {\n",
       "        vertical-align: top;\n",
       "    }\n",
       "\n",
       "    .dataframe thead th {\n",
       "        text-align: right;\n",
       "    }\n",
       "</style>\n",
       "<table border=\"1\" class=\"dataframe\">\n",
       "  <thead>\n",
       "    <tr style=\"text-align: right;\">\n",
       "      <th></th>\n",
       "      <th>count</th>\n",
       "      <th>mean</th>\n",
       "      <th>std</th>\n",
       "      <th>min</th>\n",
       "      <th>25%</th>\n",
       "      <th>50%</th>\n",
       "      <th>75%</th>\n",
       "      <th>max</th>\n",
       "    </tr>\n",
       "  </thead>\n",
       "  <tbody>\n",
       "    <tr>\n",
       "      <th>list_price</th>\n",
       "      <td>8837.0</td>\n",
       "      <td>69.269595</td>\n",
       "      <td>89.594063</td>\n",
       "      <td>2.2724</td>\n",
       "      <td>21.9478</td>\n",
       "      <td>37.9924</td>\n",
       "      <td>79.99</td>\n",
       "      <td>1104.87</td>\n",
       "    </tr>\n",
       "    <tr>\n",
       "      <th>num_reviews</th>\n",
       "      <td>8837.0</td>\n",
       "      <td>18.706914</td>\n",
       "      <td>39.144494</td>\n",
       "      <td>1.0000</td>\n",
       "      <td>3.0000</td>\n",
       "      <td>6.0000</td>\n",
       "      <td>15.00</td>\n",
       "      <td>367.00</td>\n",
       "    </tr>\n",
       "    <tr>\n",
       "      <th>piece_count</th>\n",
       "      <td>8837.0</td>\n",
       "      <td>555.627136</td>\n",
       "      <td>861.237635</td>\n",
       "      <td>1.0000</td>\n",
       "      <td>122.0000</td>\n",
       "      <td>277.0000</td>\n",
       "      <td>603.00</td>\n",
       "      <td>7541.00</td>\n",
       "    </tr>\n",
       "    <tr>\n",
       "      <th>play_star_rating</th>\n",
       "      <td>8837.0</td>\n",
       "      <td>4.351375</td>\n",
       "      <td>0.610493</td>\n",
       "      <td>1.0000</td>\n",
       "      <td>4.0000</td>\n",
       "      <td>4.5000</td>\n",
       "      <td>4.80</td>\n",
       "      <td>5.00</td>\n",
       "    </tr>\n",
       "    <tr>\n",
       "      <th>prod_id</th>\n",
       "      <td>8837.0</td>\n",
       "      <td>49425.858323</td>\n",
       "      <td>27561.813459</td>\n",
       "      <td>630.0000</td>\n",
       "      <td>31056.0000</td>\n",
       "      <td>60119.0000</td>\n",
       "      <td>75102.00</td>\n",
       "      <td>853638.00</td>\n",
       "    </tr>\n",
       "    <tr>\n",
       "      <th>star_rating</th>\n",
       "      <td>8837.0</td>\n",
       "      <td>4.507186</td>\n",
       "      <td>0.516951</td>\n",
       "      <td>1.8000</td>\n",
       "      <td>4.3000</td>\n",
       "      <td>4.6000</td>\n",
       "      <td>4.90</td>\n",
       "      <td>5.00</td>\n",
       "    </tr>\n",
       "    <tr>\n",
       "      <th>val_star_rating</th>\n",
       "      <td>8837.0</td>\n",
       "      <td>4.224443</td>\n",
       "      <td>0.654913</td>\n",
       "      <td>1.0000</td>\n",
       "      <td>4.0000</td>\n",
       "      <td>4.3000</td>\n",
       "      <td>4.70</td>\n",
       "      <td>5.00</td>\n",
       "    </tr>\n",
       "  </tbody>\n",
       "</table>\n",
       "</div>"
      ],
      "text/plain": [
       "                   count          mean           std       min         25%  \\\n",
       "list_price        8837.0     69.269595     89.594063    2.2724     21.9478   \n",
       "num_reviews       8837.0     18.706914     39.144494    1.0000      3.0000   \n",
       "piece_count       8837.0    555.627136    861.237635    1.0000    122.0000   \n",
       "play_star_rating  8837.0      4.351375      0.610493    1.0000      4.0000   \n",
       "prod_id           8837.0  49425.858323  27561.813459  630.0000  31056.0000   \n",
       "star_rating       8837.0      4.507186      0.516951    1.8000      4.3000   \n",
       "val_star_rating   8837.0      4.224443      0.654913    1.0000      4.0000   \n",
       "\n",
       "                         50%       75%        max  \n",
       "list_price           37.9924     79.99    1104.87  \n",
       "num_reviews           6.0000     15.00     367.00  \n",
       "piece_count         277.0000    603.00    7541.00  \n",
       "play_star_rating      4.5000      4.80       5.00  \n",
       "prod_id           60119.0000  75102.00  853638.00  \n",
       "star_rating           4.6000      4.90       5.00  \n",
       "val_star_rating       4.3000      4.70       5.00  "
      ]
     },
     "execution_count": 140,
     "metadata": {},
     "output_type": "execute_result"
    }
   ],
   "source": [
    "df.describe().T"
   ]
  }
 ],
 "metadata": {
  "kernelspec": {
   "display_name": "base",
   "language": "python",
   "name": "python3"
  },
  "language_info": {
   "codemirror_mode": {
    "name": "ipython",
    "version": 3
   },
   "file_extension": ".py",
   "mimetype": "text/x-python",
   "name": "python",
   "nbconvert_exporter": "python",
   "pygments_lexer": "ipython3",
   "version": "3.11.9"
  }
 },
 "nbformat": 4,
 "nbformat_minor": 2
}
